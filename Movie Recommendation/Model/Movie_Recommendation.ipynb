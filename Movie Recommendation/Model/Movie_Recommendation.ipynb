{
  "nbformat": 4,
  "nbformat_minor": 0,
  "metadata": {
    "colab": {
      "name": "Movie_Recommendation.ipynb",
      "provenance": [],
      "authorship_tag": "ABX9TyOUI8tQwpzW3vYCQ+0SlmG5",
      "include_colab_link": true
    },
    "kernelspec": {
      "name": "python3",
      "display_name": "Python 3"
    }
  },
  "cells": [
    {
      "cell_type": "markdown",
      "metadata": {
        "id": "view-in-github",
        "colab_type": "text"
      },
      "source": [
        "<a href=\"https://colab.research.google.com/github/psyduck1203/ML-ProjectYard/blob/main/Movie%20Recommendation/Model/Movie_Recommendation.ipynb\" target=\"_parent\"><img src=\"https://colab.research.google.com/assets/colab-badge.svg\" alt=\"Open In Colab\"/></a>"
      ]
    },
    {
      "cell_type": "code",
      "metadata": {
        "id": "DPvDGKU6fTWc"
      },
      "source": [
        "# to open files\r\n",
        "import pandas as pd\r\n",
        "\r\n",
        "# for numerical operations\r\n",
        "import numpy as np\r\n",
        "\r\n",
        "# sci-kit learn to measure distances\r\n",
        "from sklearn.metrics.pairwise import pairwise_distances"
      ],
      "execution_count": 1,
      "outputs": []
    },
    {
      "cell_type": "code",
      "metadata": {
        "id": "4odASA29fhR3",
        "colab": {
          "base_uri": "https://localhost:8080/",
          "height": 206
        },
        "outputId": "0c9525b2-e8a2-41ee-c790-1d4371878cf6"
      },
      "source": [
        "header = ['user_id', 'item_id', 'rating', 'timestamp']\r\n",
        "movielens_data = pd.read_csv('/content/sample_data/ml-100k/u.data', sep='\\t', names=header)\r\n",
        "movielens_data.head()"
      ],
      "execution_count": 2,
      "outputs": [
        {
          "output_type": "execute_result",
          "data": {
            "text/html": [
              "<div>\n",
              "<style scoped>\n",
              "    .dataframe tbody tr th:only-of-type {\n",
              "        vertical-align: middle;\n",
              "    }\n",
              "\n",
              "    .dataframe tbody tr th {\n",
              "        vertical-align: top;\n",
              "    }\n",
              "\n",
              "    .dataframe thead th {\n",
              "        text-align: right;\n",
              "    }\n",
              "</style>\n",
              "<table border=\"1\" class=\"dataframe\">\n",
              "  <thead>\n",
              "    <tr style=\"text-align: right;\">\n",
              "      <th></th>\n",
              "      <th>user_id</th>\n",
              "      <th>item_id</th>\n",
              "      <th>rating</th>\n",
              "      <th>timestamp</th>\n",
              "    </tr>\n",
              "  </thead>\n",
              "  <tbody>\n",
              "    <tr>\n",
              "      <th>0</th>\n",
              "      <td>196</td>\n",
              "      <td>242</td>\n",
              "      <td>3</td>\n",
              "      <td>881250949</td>\n",
              "    </tr>\n",
              "    <tr>\n",
              "      <th>1</th>\n",
              "      <td>186</td>\n",
              "      <td>302</td>\n",
              "      <td>3</td>\n",
              "      <td>891717742</td>\n",
              "    </tr>\n",
              "    <tr>\n",
              "      <th>2</th>\n",
              "      <td>22</td>\n",
              "      <td>377</td>\n",
              "      <td>1</td>\n",
              "      <td>878887116</td>\n",
              "    </tr>\n",
              "    <tr>\n",
              "      <th>3</th>\n",
              "      <td>244</td>\n",
              "      <td>51</td>\n",
              "      <td>2</td>\n",
              "      <td>880606923</td>\n",
              "    </tr>\n",
              "    <tr>\n",
              "      <th>4</th>\n",
              "      <td>166</td>\n",
              "      <td>346</td>\n",
              "      <td>1</td>\n",
              "      <td>886397596</td>\n",
              "    </tr>\n",
              "  </tbody>\n",
              "</table>\n",
              "</div>"
            ],
            "text/plain": [
              "   user_id  item_id  rating  timestamp\n",
              "0      196      242       3  881250949\n",
              "1      186      302       3  891717742\n",
              "2       22      377       1  878887116\n",
              "3      244       51       2  880606923\n",
              "4      166      346       1  886397596"
            ]
          },
          "metadata": {
            "tags": []
          },
          "execution_count": 2
        }
      ]
    },
    {
      "cell_type": "code",
      "metadata": {
        "id": "BTMEwuOyfoIw",
        "colab": {
          "base_uri": "https://localhost:8080/"
        },
        "outputId": "79ea5844-38ab-4fb7-fe89-c7b00a6f249d"
      },
      "source": [
        "movielens_data.shape"
      ],
      "execution_count": 3,
      "outputs": [
        {
          "output_type": "execute_result",
          "data": {
            "text/plain": [
              "(100000, 4)"
            ]
          },
          "metadata": {
            "tags": []
          },
          "execution_count": 3
        }
      ]
    },
    {
      "cell_type": "code",
      "metadata": {
        "id": "ncoCN3L-fryt",
        "colab": {
          "base_uri": "https://localhost:8080/"
        },
        "outputId": "828b9746-7531-46eb-9802-e63e38d89e5c"
      },
      "source": [
        "n_users, n_movies  = movielens_data['user_id'].nunique(), movielens_data['item_id'].nunique()\r\n",
        "n_users, n_movies"
      ],
      "execution_count": 4,
      "outputs": [
        {
          "output_type": "execute_result",
          "data": {
            "text/plain": [
              "(943, 1682)"
            ]
          },
          "metadata": {
            "tags": []
          },
          "execution_count": 4
        }
      ]
    },
    {
      "cell_type": "code",
      "metadata": {
        "id": "d_G2n3cOgenz",
        "colab": {
          "base_uri": "https://localhost:8080/"
        },
        "outputId": "3d02be6f-7176-4d45-b5f1-5b8a3ae7700b"
      },
      "source": [
        "# We can also use panda's pivot_table to create this 2D matrix. But I'll keep it simple by doing it mannually.\r\n",
        "# https://pandas.pydata.org/pandas-docs/stable/reference/api/pandas.pivot_table.html\r\n",
        "\r\n",
        "train_data_matrix = np.zeros((n_users, n_movies))\r\n",
        "\r\n",
        "for line in movielens_data.itertuples():\r\n",
        "    train_data_matrix[line[1]-1, line[2]-1] = line[3]\r\n",
        "    \r\n",
        "train_data_matrix.shape"
      ],
      "execution_count": 5,
      "outputs": [
        {
          "output_type": "execute_result",
          "data": {
            "text/plain": [
              "(943, 1682)"
            ]
          },
          "metadata": {
            "tags": []
          },
          "execution_count": 5
        }
      ]
    },
    {
      "cell_type": "code",
      "metadata": {
        "id": "EciFekD4gfqo",
        "colab": {
          "base_uri": "https://localhost:8080/"
        },
        "outputId": "1c33d385-921d-48ad-96b2-ff1365ec762f"
      },
      "source": [
        "train_data_matrix"
      ],
      "execution_count": 6,
      "outputs": [
        {
          "output_type": "execute_result",
          "data": {
            "text/plain": [
              "array([[5., 3., 4., ..., 0., 0., 0.],\n",
              "       [4., 0., 0., ..., 0., 0., 0.],\n",
              "       [0., 0., 0., ..., 0., 0., 0.],\n",
              "       ...,\n",
              "       [5., 0., 0., ..., 0., 0., 0.],\n",
              "       [0., 0., 0., ..., 0., 0., 0.],\n",
              "       [0., 5., 0., ..., 0., 0., 0.]])"
            ]
          },
          "metadata": {
            "tags": []
          },
          "execution_count": 6
        }
      ]
    },
    {
      "cell_type": "code",
      "metadata": {
        "id": "5BKSE6eOgh4M",
        "colab": {
          "base_uri": "https://localhost:8080/"
        },
        "outputId": "541c60ad-00ae-4830-e5d4-286b2d28ce59"
      },
      "source": [
        "user_distances = pairwise_distances(train_data_matrix, metric=\"cosine\")\r\n",
        "\r\n",
        "# \".T\" below is to transpose our 2D matrix.\r\n",
        "train_data_matrix_transpose = train_data_matrix.T\r\n",
        "movie_distances = pairwise_distances(train_data_matrix_transpose, metric=\"cosine\")\r\n",
        "\r\n",
        "user_distances.shape, movie_distances.shape"
      ],
      "execution_count": 7,
      "outputs": [
        {
          "output_type": "execute_result",
          "data": {
            "text/plain": [
              "((943, 943), (1682, 1682))"
            ]
          },
          "metadata": {
            "tags": []
          },
          "execution_count": 7
        }
      ]
    },
    {
      "cell_type": "code",
      "metadata": {
        "id": "plLSE6O0gmxH",
        "colab": {
          "base_uri": "https://localhost:8080/"
        },
        "outputId": "1520053f-f2c3-4cff-9ca7-d7510c2c21f8"
      },
      "source": [
        "user_distances"
      ],
      "execution_count": 8,
      "outputs": [
        {
          "output_type": "execute_result",
          "data": {
            "text/plain": [
              "array([[0.        , 0.83306902, 0.95254046, ..., 0.85138306, 0.82049212,\n",
              "        0.60182526],\n",
              "       [0.83306902, 0.        , 0.88940868, ..., 0.83851522, 0.82773219,\n",
              "        0.89420212],\n",
              "       [0.95254046, 0.88940868, 0.        , ..., 0.89875744, 0.86658385,\n",
              "        0.97344413],\n",
              "       ...,\n",
              "       [0.85138306, 0.83851522, 0.89875744, ..., 0.        , 0.8983582 ,\n",
              "        0.90488042],\n",
              "       [0.82049212, 0.82773219, 0.86658385, ..., 0.8983582 , 0.        ,\n",
              "        0.81753534],\n",
              "       [0.60182526, 0.89420212, 0.97344413, ..., 0.90488042, 0.81753534,\n",
              "        0.        ]])"
            ]
          },
          "metadata": {
            "tags": []
          },
          "execution_count": 8
        }
      ]
    },
    {
      "cell_type": "code",
      "metadata": {
        "id": "8r2hFDTugrrA",
        "colab": {
          "base_uri": "https://localhost:8080/"
        },
        "outputId": "f0e65b40-b55c-4f45-89f6-7f445398780e"
      },
      "source": [
        "movie_distances"
      ],
      "execution_count": 9,
      "outputs": [
        {
          "output_type": "execute_result",
          "data": {
            "text/plain": [
              "array([[0.        , 0.59761782, 0.66975521, ..., 1.        , 0.95281693,\n",
              "        0.95281693],\n",
              "       [0.59761782, 0.        , 0.72693082, ..., 1.        , 0.92170064,\n",
              "        0.92170064],\n",
              "       [0.66975521, 0.72693082, 0.        , ..., 1.        , 1.        ,\n",
              "        0.90312495],\n",
              "       ...,\n",
              "       [1.        , 1.        , 1.        , ..., 0.        , 1.        ,\n",
              "        1.        ],\n",
              "       [0.95281693, 0.92170064, 1.        , ..., 1.        , 0.        ,\n",
              "        1.        ],\n",
              "       [0.95281693, 0.92170064, 0.90312495, ..., 1.        , 1.        ,\n",
              "        0.        ]])"
            ]
          },
          "metadata": {
            "tags": []
          },
          "execution_count": 9
        }
      ]
    },
    {
      "cell_type": "code",
      "metadata": {
        "id": "TDrjJ3sNgseX"
      },
      "source": [
        "user_similarity = 1 - user_distances\r\n",
        "movie_similarity = 1 - movie_distances"
      ],
      "execution_count": 10,
      "outputs": []
    },
    {
      "cell_type": "code",
      "metadata": {
        "id": "LRmIUnKegu3I",
        "colab": {
          "base_uri": "https://localhost:8080/"
        },
        "outputId": "75834be3-79d3-44d8-8329-562c2ebaa51a"
      },
      "source": [
        "user_similarity"
      ],
      "execution_count": 11,
      "outputs": [
        {
          "output_type": "execute_result",
          "data": {
            "text/plain": [
              "array([[1.        , 0.16693098, 0.04745954, ..., 0.14861694, 0.17950788,\n",
              "        0.39817474],\n",
              "       [0.16693098, 1.        , 0.11059132, ..., 0.16148478, 0.17226781,\n",
              "        0.10579788],\n",
              "       [0.04745954, 0.11059132, 1.        , ..., 0.10124256, 0.13341615,\n",
              "        0.02655587],\n",
              "       ...,\n",
              "       [0.14861694, 0.16148478, 0.10124256, ..., 1.        , 0.1016418 ,\n",
              "        0.09511958],\n",
              "       [0.17950788, 0.17226781, 0.13341615, ..., 0.1016418 , 1.        ,\n",
              "        0.18246466],\n",
              "       [0.39817474, 0.10579788, 0.02655587, ..., 0.09511958, 0.18246466,\n",
              "        1.        ]])"
            ]
          },
          "metadata": {
            "tags": []
          },
          "execution_count": 11
        }
      ]
    },
    {
      "cell_type": "code",
      "metadata": {
        "id": "S-uMxRehgw8U",
        "colab": {
          "base_uri": "https://localhost:8080/"
        },
        "outputId": "c8dcd091-c8f2-4f01-e00e-646d06647391"
      },
      "source": [
        "movie_similarity"
      ],
      "execution_count": 12,
      "outputs": [
        {
          "output_type": "execute_result",
          "data": {
            "text/plain": [
              "array([[1.        , 0.40238218, 0.33024479, ..., 0.        , 0.04718307,\n",
              "        0.04718307],\n",
              "       [0.40238218, 1.        , 0.27306918, ..., 0.        , 0.07829936,\n",
              "        0.07829936],\n",
              "       [0.33024479, 0.27306918, 1.        , ..., 0.        , 0.        ,\n",
              "        0.09687505],\n",
              "       ...,\n",
              "       [0.        , 0.        , 0.        , ..., 1.        , 0.        ,\n",
              "        0.        ],\n",
              "       [0.04718307, 0.07829936, 0.        , ..., 0.        , 1.        ,\n",
              "        0.        ],\n",
              "       [0.04718307, 0.07829936, 0.09687505, ..., 0.        , 0.        ,\n",
              "        1.        ]])"
            ]
          },
          "metadata": {
            "tags": []
          },
          "execution_count": 12
        }
      ]
    },
    {
      "cell_type": "code",
      "metadata": {
        "id": "4-Q764LOg1XM"
      },
      "source": [
        "idx_to_movie = {}\r\n",
        "\r\n",
        "with open('/content/sample_data/ml-100k/u.item', 'r', encoding=\"ISO-8859-1\") as f:\r\n",
        "    for line in f.readlines():\r\n",
        "        info = line.split('|')\r\n",
        "        idx_to_movie[int(info[0])-1] = info[1]\r\n",
        "\r\n",
        "movie_to_idx = {v: k for k, v in idx_to_movie.items()}"
      ],
      "execution_count": 13,
      "outputs": []
    },
    {
      "cell_type": "code",
      "metadata": {
        "id": "ZKPIjhl_hDLp",
        "colab": {
          "base_uri": "https://localhost:8080/"
        },
        "outputId": "0fe82acd-2882-4f17-d764-8d4c4517a4f6"
      },
      "source": [
        "idx_to_movie[0], idx_to_movie[1], idx_to_movie[2], idx_to_movie[3]"
      ],
      "execution_count": 14,
      "outputs": [
        {
          "output_type": "execute_result",
          "data": {
            "text/plain": [
              "('Toy Story (1995)',\n",
              " 'GoldenEye (1995)',\n",
              " 'Four Rooms (1995)',\n",
              " 'Get Shorty (1995)')"
            ]
          },
          "metadata": {
            "tags": []
          },
          "execution_count": 14
        }
      ]
    },
    {
      "cell_type": "code",
      "metadata": {
        "id": "GWhu0I4lhGO2",
        "colab": {
          "base_uri": "https://localhost:8080/"
        },
        "outputId": "e2c428dd-3078-4ef7-8dfd-3c6090a324a7"
      },
      "source": [
        "movie_to_idx['Toy Story (1995)'], movie_to_idx['GoldenEye (1995)'], movie_to_idx['Four Rooms (1995)'], movie_to_idx['Get Shorty (1995)']"
      ],
      "execution_count": 15,
      "outputs": [
        {
          "output_type": "execute_result",
          "data": {
            "text/plain": [
              "(0, 1, 2, 3)"
            ]
          },
          "metadata": {
            "tags": []
          },
          "execution_count": 15
        }
      ]
    },
    {
      "cell_type": "code",
      "metadata": {
        "id": "BW_TRk4ahInt"
      },
      "source": [
        "# What we do is, we just that movie's column & sort it by value.\r\n",
        "# Those value represents \"similarity\" so, we just need to sort it & pick first \"k\" values.\r\n",
        "\r\n",
        "def top_k_movies(similarity, mapper, movie_idx, k=6):\r\n",
        "    return [mapper[x] for x in np.argsort(similarity[movie_idx,:])[:-k-2:-1]]"
      ],
      "execution_count": 16,
      "outputs": []
    },
    {
      "cell_type": "markdown",
      "metadata": {
        "id": "k-OwHinohwvx"
      },
      "source": [
        "# Let's find out similar movies of \"Batman Forever\" movie\r\n",
        "We can recommend these movies to users who like \"Batman Forever\" movie."
      ]
    },
    {
      "cell_type": "code",
      "metadata": {
        "id": "R-T90cpzhweR",
        "colab": {
          "base_uri": "https://localhost:8080/"
        },
        "outputId": "12513abf-69a7-41de-e0c6-b3285a591e81"
      },
      "source": [
        "favorite_movie_name = 'Batman Forever (1995)'\r\n",
        "movie_index = movie_to_idx[favorite_movie_name]\r\n",
        "movie_index"
      ],
      "execution_count": 17,
      "outputs": [
        {
          "output_type": "execute_result",
          "data": {
            "text/plain": [
              "28"
            ]
          },
          "metadata": {
            "tags": []
          },
          "execution_count": 17
        }
      ]
    },
    {
      "cell_type": "code",
      "metadata": {
        "id": "YEEzQlrwh5gm",
        "colab": {
          "base_uri": "https://localhost:8080/"
        },
        "outputId": "06ef6e68-42fb-4935-958c-40fe37a0a321"
      },
      "source": [
        "how_much_movie_to_show = 7\r\n",
        "\r\n",
        "movies = top_k_movies(movie_similarity, idx_to_movie, movie_index, k = how_much_movie_to_show)\r\n",
        "movies[1:how_much_movie_to_show + 1]"
      ],
      "execution_count": 18,
      "outputs": [
        {
          "output_type": "execute_result",
          "data": {
            "text/plain": [
              "['Batman (1989)',\n",
              " 'Batman Returns (1992)',\n",
              " 'Cliffhanger (1993)',\n",
              " 'Demolition Man (1993)',\n",
              " 'Stargate (1994)',\n",
              " 'Net, The (1995)',\n",
              " 'Waterworld (1995)']"
            ]
          },
          "metadata": {
            "tags": []
          },
          "execution_count": 18
        }
      ]
    },
    {
      "cell_type": "markdown",
      "metadata": {
        "id": "6Qgr6lziiAv-"
      },
      "source": [
        "\"Batman Forever (1995)\" movie is similar to \"Batman (1989)\" & \"Batman Returns (1992)\"\r\n",
        "And \"Cliffhanger (1993)\" is also an Action movie.\r\n",
        "Let's find similar movies to \"Star Wars (1977)\" movie."
      ]
    },
    {
      "cell_type": "code",
      "metadata": {
        "id": "estwog0gh75M",
        "colab": {
          "base_uri": "https://localhost:8080/"
        },
        "outputId": "d7093c26-970e-4d27-abb7-8016f68dca55"
      },
      "source": [
        "favorite_movie_name = 'Star Wars (1977)'\r\n",
        "movie_index = movie_to_idx[favorite_movie_name]\r\n",
        "movie_index"
      ],
      "execution_count": 19,
      "outputs": [
        {
          "output_type": "execute_result",
          "data": {
            "text/plain": [
              "49"
            ]
          },
          "metadata": {
            "tags": []
          },
          "execution_count": 19
        }
      ]
    },
    {
      "cell_type": "code",
      "metadata": {
        "id": "qc7cf4yGiGfB",
        "colab": {
          "base_uri": "https://localhost:8080/"
        },
        "outputId": "aa020da7-ae3d-4df1-9821-d0609cecd594"
      },
      "source": [
        "how_much_movie_to_show = 7\r\n",
        "\r\n",
        "movies = top_k_movies(movie_similarity, idx_to_movie, movie_index, k = how_much_movie_to_show)\r\n",
        "movies[1:how_much_movie_to_show + 1]"
      ],
      "execution_count": 20,
      "outputs": [
        {
          "output_type": "execute_result",
          "data": {
            "text/plain": [
              "['Return of the Jedi (1983)',\n",
              " 'Raiders of the Lost Ark (1981)',\n",
              " 'Empire Strikes Back, The (1980)',\n",
              " 'Toy Story (1995)',\n",
              " 'Godfather, The (1972)',\n",
              " 'Independence Day (ID4) (1996)',\n",
              " 'Indiana Jones and the Last Crusade (1989)']"
            ]
          },
          "metadata": {
            "tags": []
          },
          "execution_count": 20
        }
      ]
    },
    {
      "cell_type": "markdown",
      "metadata": {
        "id": "bVnQqoXOiS91"
      },
      "source": [
        "\"Return of the Jedi (1983)\" & \"Empire Strikes Back, The (1980)\" are also \"Star Wars\" movies."
      ]
    }
  ]
}