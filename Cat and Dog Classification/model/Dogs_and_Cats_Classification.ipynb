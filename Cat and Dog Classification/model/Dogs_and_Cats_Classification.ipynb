{
  "nbformat": 4,
  "nbformat_minor": 0,
  "metadata": {
    "colab": {
      "name": "Dogs and Cats Classification",
      "provenance": []
    },
    "kernelspec": {
      "name": "python3",
      "display_name": "Python 3"
    },
    "language_info": {
      "name": "python"
    }
  },
  "cells": [
    {
      "cell_type": "code",
      "metadata": {
        "colab": {
          "base_uri": "https://localhost:8080/"
        },
        "id": "L8GF1fY7LhpB",
        "outputId": "289759e0-1ed7-4396-df77-77afe7b89894"
      },
      "source": [
        "import os\n",
        "\n",
        "from tensorflow.keras import layers\n",
        "from tensorflow.keras import Model\n",
        "!wget --no-check-certificate \\\n",
        "    https://storage.googleapis.com/mledu-datasets/inception_v3_weights_tf_dim_ordering_tf_kernels_notop.h5 \\\n",
        "    -O /tmp/inception_v3_weights_tf_dim_ordering_tf_kernels_notop.h5\n",
        "  \n",
        "from tensorflow.keras.applications.inception_v3 import InceptionV3"
      ],
      "execution_count": null,
      "outputs": [
        {
          "output_type": "stream",
          "text": [
            "--2021-04-17 08:35:08--  https://storage.googleapis.com/mledu-datasets/inception_v3_weights_tf_dim_ordering_tf_kernels_notop.h5\n",
            "Resolving storage.googleapis.com (storage.googleapis.com)... 108.177.125.128, 74.125.23.128, 74.125.204.128, ...\n",
            "Connecting to storage.googleapis.com (storage.googleapis.com)|108.177.125.128|:443... connected.\n",
            "HTTP request sent, awaiting response... 200 OK\n",
            "Length: 87910968 (84M) [application/x-hdf]\n",
            "Saving to: ‘/tmp/inception_v3_weights_tf_dim_ordering_tf_kernels_notop.h5’\n",
            "\n",
            "/tmp/inception_v3_w 100%[===================>]  83.84M   117MB/s    in 0.7s    \n",
            "\n",
            "2021-04-17 08:35:09 (117 MB/s) - ‘/tmp/inception_v3_weights_tf_dim_ordering_tf_kernels_notop.h5’ saved [87910968/87910968]\n",
            "\n"
          ],
          "name": "stdout"
        }
      ]
    },
    {
      "cell_type": "code",
      "metadata": {
        "colab": {
          "base_uri": "https://localhost:8080/"
        },
        "id": "SLDsUhqlLw0m",
        "outputId": "f70af691-4168-4f08-ebe0-5e9625e0dee8"
      },
      "source": [
        "local_weights_file = '/tmp/inception_v3_weights_tf_dim_ordering_tf_kernels_notop.h5'\n",
        "\n",
        "pre_trained_model = InceptionV3(input_shape = (150, 150, 3), \n",
        "                                include_top = False, \n",
        "                                weights = None)\n",
        "\n",
        "pre_trained_model.load_weights(local_weights_file)\n",
        "\n",
        "for layer in pre_trained_model.layers:\n",
        "  layer.trainable = False\n",
        "  \n",
        "# pre_trained_model.summary()\n",
        "\n",
        "last_layer = pre_trained_model.get_layer('mixed7')\n",
        "print('last layer output shape: ', last_layer.output_shape)\n",
        "last_output = last_layer.output"
      ],
      "execution_count": null,
      "outputs": [
        {
          "output_type": "stream",
          "text": [
            "last layer output shape:  (None, 7, 7, 768)\n"
          ],
          "name": "stdout"
        }
      ]
    },
    {
      "cell_type": "code",
      "metadata": {
        "id": "5ZtZqeabL3JO"
      },
      "source": [
        "from tensorflow.keras.optimizers import RMSprop\n",
        "\n",
        "# Flattening the output layer to 1 dimension\n",
        "x = layers.Flatten()(last_output)\n",
        "# Adding a fully connected layer with 1,024 hidden units and ReLU activation\n",
        "x = layers.Dense(1024, activation='relu')(x)\n",
        "# Adding a dropout rate of 0.2\n",
        "x = layers.Dropout(0.2)(x)                  \n",
        "# Adding a final sigmoid layer for classification\n",
        "x = layers.Dense  (1, activation='sigmoid')(x)           \n",
        "\n",
        "model = Model( pre_trained_model.input, x) \n",
        "\n",
        "model.compile(optimizer = RMSprop(lr=0.0001), \n",
        "              loss = 'binary_crossentropy', \n",
        "              metrics = ['accuracy'])"
      ],
      "execution_count": null,
      "outputs": []
    },
    {
      "cell_type": "code",
      "metadata": {
        "colab": {
          "base_uri": "https://localhost:8080/"
        },
        "id": "nYbRIb_qL6nv",
        "outputId": "4b56254a-c5ad-4d95-bb5a-4d668e26c15a"
      },
      "source": [
        "!wget --no-check-certificate \\\n",
        "        https://storage.googleapis.com/mledu-datasets/cats_and_dogs_filtered.zip \\\n",
        "       -O /tmp/cats_and_dogs_filtered.zip\n",
        "\n",
        "from tensorflow.keras.preprocessing.image import ImageDataGenerator\n",
        "\n",
        "import os\n",
        "import zipfile"
      ],
      "execution_count": null,
      "outputs": [
        {
          "output_type": "stream",
          "text": [
            "--2021-04-17 08:36:35--  https://storage.googleapis.com/mledu-datasets/cats_and_dogs_filtered.zip\n",
            "Resolving storage.googleapis.com (storage.googleapis.com)... 74.125.23.128, 74.125.204.128, 64.233.189.128, ...\n",
            "Connecting to storage.googleapis.com (storage.googleapis.com)|74.125.23.128|:443... connected.\n",
            "HTTP request sent, awaiting response... 200 OK\n",
            "Length: 68606236 (65M) [application/zip]\n",
            "Saving to: ‘/tmp/cats_and_dogs_filtered.zip’\n",
            "\n",
            "/tmp/cats_and_dogs_ 100%[===================>]  65.43M  30.4MB/s    in 2.1s    \n",
            "\n",
            "2021-04-17 08:36:38 (30.4 MB/s) - ‘/tmp/cats_and_dogs_filtered.zip’ saved [68606236/68606236]\n",
            "\n"
          ],
          "name": "stdout"
        }
      ]
    },
    {
      "cell_type": "code",
      "metadata": {
        "id": "HKZwFkYaMFjI"
      },
      "source": [
        "local_zip = '//tmp/cats_and_dogs_filtered.zip'\n",
        "\n",
        "zip_ref = zipfile.ZipFile(local_zip, 'r')\n",
        "\n",
        "zip_ref.extractall('/tmp')\n",
        "zip_ref.close()\n",
        "\n",
        "\n",
        "base_dir = '/tmp/cats_and_dogs_filtered'\n",
        "\n",
        "train_dir = os.path.join( base_dir, 'train')\n",
        "validation_dir = os.path.join( base_dir, 'validation')"
      ],
      "execution_count": null,
      "outputs": []
    },
    {
      "cell_type": "code",
      "metadata": {
        "id": "pvDl899sMMcO"
      },
      "source": [
        "train_cats_dir = os.path.join(train_dir, 'cats') # Directory with our training cat pictures\n",
        "train_dogs_dir = os.path.join(train_dir, 'dogs') # Directory with our training dog pictures\n",
        "validation_cats_dir = os.path.join(validation_dir, 'cats') # Directory with our validation cat pictures\n",
        "validation_dogs_dir = os.path.join(validation_dir, 'dogs')# Directory with our validation dog pictures\n"
      ],
      "execution_count": null,
      "outputs": []
    },
    {
      "cell_type": "code",
      "metadata": {
        "id": "4kh0c6UYMUQe"
      },
      "source": [
        "train_cat_fnames = os.listdir(train_cats_dir)\n",
        "train_dog_fnames = os.listdir(train_dogs_dir)"
      ],
      "execution_count": null,
      "outputs": []
    },
    {
      "cell_type": "code",
      "metadata": {
        "colab": {
          "base_uri": "https://localhost:8080/"
        },
        "id": "IJHCHXpDMXJW",
        "outputId": "890e9300-4768-46bf-b8c4-28c2d25da78d"
      },
      "source": [
        "print(len(train_cat_fnames))\n",
        "print(len(train_dog_fnames))"
      ],
      "execution_count": null,
      "outputs": [
        {
          "output_type": "stream",
          "text": [
            "1000\n",
            "1000\n"
          ],
          "name": "stdout"
        }
      ]
    },
    {
      "cell_type": "code",
      "metadata": {
        "colab": {
          "base_uri": "https://localhost:8080/"
        },
        "id": "QDjQ1k7cMgpe",
        "outputId": "8c6c71b1-caab-492d-c565-507df4b869b9"
      },
      "source": [
        "# Adding our data-augmentation parameters to ImageDataGenerator\n",
        "train_datagen = ImageDataGenerator(rescale = 1./255.,\n",
        "                                   rotation_range = 40,\n",
        "                                   width_shift_range = 0.2,\n",
        "                                   height_shift_range = 0.2,\n",
        "                                   shear_range = 0.2,\n",
        "                                   zoom_range = 0.2,\n",
        "                                   horizontal_flip = True)\n",
        "\n",
        "\n",
        "test_datagen = ImageDataGenerator( rescale = 1.0/255. )\n",
        "\n",
        "# Flow training images in batches of 20 using train_datagen generator\n",
        "train_generator = train_datagen.flow_from_directory(train_dir,\n",
        "                                                    batch_size = 20,\n",
        "                                                    class_mode = 'binary', \n",
        "                                                    target_size = (150, 150))     \n",
        "\n",
        "# Flow validation images in batches of 20 using test_datagen generator\n",
        "validation_generator =  test_datagen.flow_from_directory( validation_dir,\n",
        "                                                          batch_size  = 20,\n",
        "                                                          class_mode  = 'binary', \n",
        "                                                          target_size = (150, 150))"
      ],
      "execution_count": null,
      "outputs": [
        {
          "output_type": "stream",
          "text": [
            "Found 2000 images belonging to 2 classes.\n",
            "Found 1000 images belonging to 2 classes.\n"
          ],
          "name": "stdout"
        }
      ]
    },
    {
      "cell_type": "code",
      "metadata": {
        "colab": {
          "base_uri": "https://localhost:8080/"
        },
        "id": "4WKBaOi_MoMN",
        "outputId": "aea5b2fd-c7f7-45e2-dace-8ab370eb1279"
      },
      "source": [
        "history = model.fit(\n",
        "            train_generator,\n",
        "            validation_data = validation_generator,\n",
        "            steps_per_epoch = 100,\n",
        "            epochs = 20,\n",
        "            validation_steps = 50,\n",
        "            verbose = 2)"
      ],
      "execution_count": null,
      "outputs": [
        {
          "output_type": "stream",
          "text": [
            "Epoch 1/20\n",
            "100/100 - 156s - loss: 0.3427 - accuracy: 0.8610 - val_loss: 0.1133 - val_accuracy: 0.9570\n",
            "Epoch 2/20\n",
            "100/100 - 151s - loss: 0.2085 - accuracy: 0.9240 - val_loss: 0.1261 - val_accuracy: 0.9550\n",
            "Epoch 3/20\n",
            "100/100 - 151s - loss: 0.2043 - accuracy: 0.9260 - val_loss: 0.1150 - val_accuracy: 0.9630\n",
            "Epoch 4/20\n",
            "100/100 - 151s - loss: 0.1854 - accuracy: 0.9360 - val_loss: 0.1097 - val_accuracy: 0.9640\n",
            "Epoch 5/20\n",
            "100/100 - 152s - loss: 0.1871 - accuracy: 0.9310 - val_loss: 0.4120 - val_accuracy: 0.8900\n",
            "Epoch 6/20\n",
            "100/100 - 151s - loss: 0.1972 - accuracy: 0.9280 - val_loss: 0.1181 - val_accuracy: 0.9690\n",
            "Epoch 7/20\n",
            "100/100 - 151s - loss: 0.1545 - accuracy: 0.9470 - val_loss: 0.1252 - val_accuracy: 0.9650\n",
            "Epoch 8/20\n",
            "100/100 - 151s - loss: 0.1559 - accuracy: 0.9465 - val_loss: 0.1043 - val_accuracy: 0.9730\n",
            "Epoch 9/20\n",
            "100/100 - 151s - loss: 0.1550 - accuracy: 0.9425 - val_loss: 0.1150 - val_accuracy: 0.9700\n",
            "Epoch 10/20\n",
            "100/100 - 150s - loss: 0.1463 - accuracy: 0.9540 - val_loss: 0.1598 - val_accuracy: 0.9570\n",
            "Epoch 11/20\n",
            "100/100 - 154s - loss: 0.1589 - accuracy: 0.9435 - val_loss: 0.1050 - val_accuracy: 0.9720\n",
            "Epoch 12/20\n",
            "100/100 - 153s - loss: 0.1597 - accuracy: 0.9470 - val_loss: 0.1416 - val_accuracy: 0.9550\n",
            "Epoch 13/20\n",
            "100/100 - 153s - loss: 0.1404 - accuracy: 0.9455 - val_loss: 0.1234 - val_accuracy: 0.9670\n",
            "Epoch 14/20\n",
            "100/100 - 153s - loss: 0.1444 - accuracy: 0.9515 - val_loss: 0.1467 - val_accuracy: 0.9650\n",
            "Epoch 15/20\n",
            "100/100 - 153s - loss: 0.1402 - accuracy: 0.9530 - val_loss: 0.1753 - val_accuracy: 0.9540\n",
            "Epoch 16/20\n",
            "100/100 - 152s - loss: 0.1452 - accuracy: 0.9525 - val_loss: 0.0976 - val_accuracy: 0.9740\n",
            "Epoch 17/20\n",
            "100/100 - 151s - loss: 0.1407 - accuracy: 0.9540 - val_loss: 0.1360 - val_accuracy: 0.9600\n",
            "Epoch 18/20\n",
            "100/100 - 151s - loss: 0.1287 - accuracy: 0.9575 - val_loss: 0.1262 - val_accuracy: 0.9640\n",
            "Epoch 19/20\n",
            "100/100 - 150s - loss: 0.1380 - accuracy: 0.9500 - val_loss: 0.1114 - val_accuracy: 0.9680\n",
            "Epoch 20/20\n",
            "100/100 - 150s - loss: 0.1516 - accuracy: 0.9490 - val_loss: 0.1013 - val_accuracy: 0.9720\n"
          ],
          "name": "stdout"
        }
      ]
    },
    {
      "cell_type": "code",
      "metadata": {
        "id": "jj_HjJ0zZIh3",
        "colab": {
          "base_uri": "https://localhost:8080/",
          "height": 298
        },
        "outputId": "36e6665b-5254-4c1d-e273-4b9015f9f00d"
      },
      "source": [
        "import matplotlib.pyplot as plt\n",
        "acc = history.history['accuracy']\n",
        "val_acc = history.history['val_accuracy']\n",
        "loss = history.history['loss']\n",
        "val_loss = history.history['val_loss']\n",
        "\n",
        "epochs = range(len(acc))\n",
        "\n",
        "plt.plot(epochs, acc, 'r', label='Training accuracy')\n",
        "plt.plot(epochs, val_acc, 'b', label='Validation accuracy')\n",
        "plt.title('Training and validation accuracy')\n",
        "plt.legend(loc=0)\n",
        "plt.figure()\n",
        "\n",
        "\n",
        "plt.show()"
      ],
      "execution_count": null,
      "outputs": [
        {
          "output_type": "display_data",
          "data": {
            "image/png": "[encoded data removed]",
            "text/plain": [
              "<Figure size 432x288 with 1 Axes>"
            ]
          },
          "metadata": {
            "tags": [],
            "needs_background": "light"
          }
        },
        {
          "output_type": "display_data",
          "data": {
            "text/plain": [
              "<Figure size 432x288 with 0 Axes>"
            ]
          },
          "metadata": {
            "tags": []
          }
        }
      ]
    },
    {
      "cell_type": "code",
      "metadata": {
        "id": "bV-0NhtxZN2G",
        "colab": {
          "base_uri": "https://localhost:8080/"
        },
        "outputId": "2f548625-d91a-44be-f130-b67a79f883ac"
      },
      "source": [
        "import time\n",
        "t = time.time()\n",
        "export_path_keras = \"./{}.h5\".format(int(t))\n",
        "print(export_path_keras)\n",
        "\n",
        "model.save(export_path_keras)"
      ],
      "execution_count": 14,
      "outputs": [
        {
          "output_type": "stream",
          "text": [
            "./1618652106.h5\n"
          ],
          "name": "stdout"
        }
      ]
    }
  ]
}