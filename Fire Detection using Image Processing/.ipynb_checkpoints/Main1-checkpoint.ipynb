{
 "cells": [
  {
   "cell_type": "markdown",
   "metadata": {
    "id": "_6XqmMKFCqkl"
   },
   "source": [
    "**Fire Detection using Image processing** "
   ]
  },
  {
   "cell_type": "code",
   "execution_count": 57,
   "metadata": {
    "id": "4q3m4uTgYaHD"
   },
   "outputs": [],
   "source": [
    "#importing libraries:\n",
    "import os  \n",
    "import cv2                                   \n",
    "import numpy as np                            \n",
    "from PIL import Image                # Python image library \n",
    "import matplotlib.pyplot as plt      # For data Visualization-plots\n",
    "%matplotlib inline \n",
    "from IPython.display import display  # For display\n",
    "\n",
    "import warnings                      # To ignore unnecessary python warnings \n",
    "warnings.filterwarnings('ignore')"
   ]
  },
  {
   "cell_type": "code",
   "execution_count": 58,
   "metadata": {
    "id": "Nn873tUEDxkR"
   },
   "outputs": [],
   "source": [
    "# Here we are using VGG16 model\n",
    "from keras.applications import VGG16                                            \n",
    "from keras.callbacks import ModelCheckpoint                # further to train the saved model \n",
    "from keras import models, layers, optimizers               # building DNN\n",
    "from tensorflow.keras.models import load_model             # To load saved model \n",
    "from keras.preprocessing.image import ImageDataGenerator     \n",
    "from imutils import paths "
   ]
  },
  {
   "cell_type": "code",
   "execution_count": 59,
   "metadata": {
    "id": "XuQ07zf4EXXV"
   },
   "outputs": [],
   "source": [
    "#classes = 2\n",
    "conv_layer = VGG16(weights='imagenet',             # Base layer\n",
    "                 include_top=False,\n",
    "                 input_shape=(128, 128, 3))\n",
    "\n",
    "model = models.Sequential()\n",
    "model.add(conv_layer)\n",
    "model.add(layers.Flatten())\n",
    "#model.add(layers.Dense(classes))\n",
    "model.add(layers.Dense(256, activation='relu'))\n",
    "model.add(layers.Dense(1, activation='sigmoid'))\n",
    "\n",
    "conv_layer.trainable = False\n",
    "\n",
    "model.compile(loss='binary_crossentropy', \n",
    "             optimizer=optimizers.RMSprop(lr=1e-4), \n",
    "             metrics=['accuracy'])"
   ]
  },
  {
   "cell_type": "code",
   "execution_count": 55,
   "metadata": {
    "colab": {
     "base_uri": "https://localhost:8080/"
    },
    "id": "xOI7Y9xXE63b",
    "outputId": "1df2fd50-efce-47f9-dcca-681bf84d61fa"
   },
   "outputs": [
    {
     "name": "stdout",
     "output_type": "stream",
     "text": [
      "Model: \"sequential_8\"\n",
      "_________________________________________________________________\n",
      "Layer (type)                 Output Shape              Param #   \n",
      "=================================================================\n",
      "vgg16 (Functional)           (None, 4, 4, 512)         14714688  \n",
      "_________________________________________________________________\n",
      "flatten_8 (Flatten)          (None, 8192)              0         \n",
      "_________________________________________________________________\n",
      "dense_13 (Dense)             (None, 256)               2097408   \n",
      "_________________________________________________________________\n",
      "dense_14 (Dense)             (None, 1)                 257       \n",
      "=================================================================\n",
      "Total params: 16,812,353\n",
      "Trainable params: 2,097,665\n",
      "Non-trainable params: 14,714,688\n",
      "_________________________________________________________________\n"
     ]
    }
   ],
   "source": [
    "# checking summary:\n",
    "model.summary()"
   ]
  },
  {
   "cell_type": "code",
   "execution_count": 60,
   "metadata": {
    "colab": {
     "base_uri": "https://localhost:8080/"
    },
    "id": "w7jr1uiKFDSv",
    "outputId": "e92abafa-fa17-4978-a5cf-fa6264982903"
   },
   "outputs": [
    {
     "name": "stdout",
     "output_type": "stream",
     "text": [
      "Drive already mounted at /content/drive/; to attempt to forcibly remount, call drive.mount(\"/content/drive/\", force_remount=True).\n"
     ]
    }
   ],
   "source": [
    "# Mounting drive:\n",
    "from google.colab import drive\n",
    "drive.mount('/content/drive/')"
   ]
  },
  {
   "cell_type": "code",
   "execution_count": 63,
   "metadata": {
    "id": "nRgF_vVpFZ_V"
   },
   "outputs": [],
   "source": [
    "# Preparing Data:\n",
    "# I'm having two folders. One for testing and other for training. \n",
    "train_path = '/content/drive/MyDrive/RWDS/Train'\n",
    "train_fire = '/content/drive/MyDrive/RWDS/Train/train_fire'\n",
    "train_nofire ='/content/drive/MyDrive/RWDS/Train/train_nofire'\n",
    "test_path = '/content/drive/MyDrive/RWDS/Test'\n",
    "test_fire ='/content/drive/MyDrive/RWDS/Test/test_fire'\n",
    "test_nofire ='/content/drive/MyDrive/RWDS/Test/test_nofire'\n",
    "#Classes = [\"No-Fire\", \"Fire\"]"
   ]
  },
  {
   "cell_type": "code",
   "execution_count": 64,
   "metadata": {
    "colab": {
     "base_uri": "https://localhost:8080/"
    },
    "id": "dlQV_cyCGZUz",
    "outputId": "2f39d729-961b-44c6-d7d7-32d8a26e4da6"
   },
   "outputs": [
    {
     "name": "stdout",
     "output_type": "stream",
     "text": [
      "Found 3123 images belonging to 2 classes.\n",
      "Found 839 images belonging to 2 classes.\n"
     ]
    }
   ],
   "source": [
    "Train_datagen = ImageDataGenerator(rescale=1./255, \n",
    "                                  rotation_range=40,\n",
    "                                  width_shift_range=0.2,\n",
    "                                  height_shift_range=0.2,\n",
    "                                  shear_range=0.2,\n",
    "                                  zoom_range=0.2,\n",
    "                                  horizontal_flip=True)\n",
    "\n",
    "Test_datagen = ImageDataGenerator(rescale=1./255)\n",
    "\n",
    "train_generator = Train_datagen.flow_from_directory(train_path, \n",
    "                                                   target_size=(150, 150), \n",
    "                                                   batch_size=32,\n",
    "                                                   class_mode='binary')\n",
    "\n",
    "test_generator = Test_datagen.flow_from_directory(test_path, \n",
    "                                                   target_size=(150, 150), \n",
    "                                                   batch_size=32,\n",
    "                                                   class_mode='binary')\n"
   ]
  },
  {
   "cell_type": "code",
   "execution_count": 65,
   "metadata": {
    "colab": {
     "base_uri": "https://localhost:8080/"
    },
    "id": "DainrSY_JCpg",
    "outputId": "780a51eb-ef8d-4cbc-b318-d400573ebeb6"
   },
   "outputs": [
    {
     "name": "stdout",
     "output_type": "stream",
     "text": [
      "Epoch 1/30\n",
      "98/98 [==============================] - 1175s 12s/step - loss: 0.5225 - accuracy: 0.7419 - val_loss: 0.3859 - val_accuracy: 0.7962\n",
      "Epoch 2/30\n",
      "98/98 [==============================] - 57s 583ms/step - loss: 0.3186 - accuracy: 0.8644 - val_loss: 0.3516 - val_accuracy: 0.8284\n",
      "Epoch 3/30\n",
      "98/98 [==============================] - 57s 579ms/step - loss: 0.3066 - accuracy: 0.8604 - val_loss: 0.3550 - val_accuracy: 0.8260\n",
      "Epoch 4/30\n",
      "98/98 [==============================] - 57s 579ms/step - loss: 0.2655 - accuracy: 0.8875 - val_loss: 0.3864 - val_accuracy: 0.8188\n",
      "Epoch 5/30\n",
      "98/98 [==============================] - 57s 581ms/step - loss: 0.2510 - accuracy: 0.8963 - val_loss: 0.2863 - val_accuracy: 0.8713\n",
      "Epoch 6/30\n",
      "98/98 [==============================] - 56s 575ms/step - loss: 0.2384 - accuracy: 0.9076 - val_loss: 0.3425 - val_accuracy: 0.8474\n",
      "Epoch 7/30\n",
      "98/98 [==============================] - 56s 576ms/step - loss: 0.2352 - accuracy: 0.8974 - val_loss: 0.2891 - val_accuracy: 0.8689\n",
      "Epoch 8/30\n",
      "98/98 [==============================] - 56s 572ms/step - loss: 0.2415 - accuracy: 0.8972 - val_loss: 0.2621 - val_accuracy: 0.8987\n",
      "Epoch 9/30\n",
      "98/98 [==============================] - 56s 572ms/step - loss: 0.2075 - accuracy: 0.9168 - val_loss: 0.2681 - val_accuracy: 0.8784\n",
      "Epoch 10/30\n",
      "98/98 [==============================] - 56s 575ms/step - loss: 0.2335 - accuracy: 0.9064 - val_loss: 0.2611 - val_accuracy: 0.8927\n",
      "Epoch 11/30\n",
      "98/98 [==============================] - 56s 572ms/step - loss: 0.2072 - accuracy: 0.9156 - val_loss: 0.3727 - val_accuracy: 0.8319\n",
      "Epoch 12/30\n",
      "98/98 [==============================] - 56s 576ms/step - loss: 0.2159 - accuracy: 0.9093 - val_loss: 0.2335 - val_accuracy: 0.9058\n",
      "Epoch 13/30\n",
      "98/98 [==============================] - 56s 571ms/step - loss: 0.2118 - accuracy: 0.9162 - val_loss: 0.3045 - val_accuracy: 0.8725\n",
      "Epoch 14/30\n",
      "98/98 [==============================] - 56s 571ms/step - loss: 0.2051 - accuracy: 0.9194 - val_loss: 0.2525 - val_accuracy: 0.8915\n",
      "Epoch 15/30\n",
      "98/98 [==============================] - 56s 572ms/step - loss: 0.1958 - accuracy: 0.9154 - val_loss: 0.2456 - val_accuracy: 0.9082\n",
      "Epoch 16/30\n",
      "98/98 [==============================] - 56s 572ms/step - loss: 0.1867 - accuracy: 0.9244 - val_loss: 0.2064 - val_accuracy: 0.9154\n",
      "Epoch 17/30\n",
      "98/98 [==============================] - 56s 572ms/step - loss: 0.1995 - accuracy: 0.9184 - val_loss: 0.2474 - val_accuracy: 0.8963\n",
      "Epoch 18/30\n",
      "98/98 [==============================] - 56s 572ms/step - loss: 0.1913 - accuracy: 0.9205 - val_loss: 0.2652 - val_accuracy: 0.8927\n",
      "Epoch 19/30\n",
      "98/98 [==============================] - 56s 571ms/step - loss: 0.1567 - accuracy: 0.9416 - val_loss: 0.2260 - val_accuracy: 0.9082\n",
      "Epoch 20/30\n",
      "98/98 [==============================] - 56s 566ms/step - loss: 0.2157 - accuracy: 0.9170 - val_loss: 0.2482 - val_accuracy: 0.9046\n",
      "Epoch 21/30\n",
      "98/98 [==============================] - 56s 570ms/step - loss: 0.1927 - accuracy: 0.9214 - val_loss: 0.2449 - val_accuracy: 0.9023\n",
      "Epoch 22/30\n",
      "98/98 [==============================] - 56s 567ms/step - loss: 0.1924 - accuracy: 0.9155 - val_loss: 0.2321 - val_accuracy: 0.9058\n",
      "Epoch 23/30\n",
      "98/98 [==============================] - 56s 572ms/step - loss: 0.1768 - accuracy: 0.9264 - val_loss: 0.2230 - val_accuracy: 0.9106\n",
      "Epoch 24/30\n",
      "98/98 [==============================] - 56s 573ms/step - loss: 0.1619 - accuracy: 0.9354 - val_loss: 0.2434 - val_accuracy: 0.9058\n",
      "Epoch 25/30\n",
      "98/98 [==============================] - 56s 572ms/step - loss: 0.1778 - accuracy: 0.9270 - val_loss: 0.2188 - val_accuracy: 0.9058\n",
      "Epoch 26/30\n",
      "98/98 [==============================] - 56s 570ms/step - loss: 0.1776 - accuracy: 0.9242 - val_loss: 0.2056 - val_accuracy: 0.9130\n",
      "Epoch 27/30\n",
      "98/98 [==============================] - 56s 570ms/step - loss: 0.1731 - accuracy: 0.9338 - val_loss: 0.2160 - val_accuracy: 0.9106\n",
      "Epoch 28/30\n",
      "98/98 [==============================] - 56s 570ms/step - loss: 0.1559 - accuracy: 0.9397 - val_loss: 0.2404 - val_accuracy: 0.9046\n",
      "Epoch 29/30\n",
      "98/98 [==============================] - 56s 570ms/step - loss: 0.1737 - accuracy: 0.9266 - val_loss: 0.2052 - val_accuracy: 0.9118\n",
      "Epoch 30/30\n",
      "98/98 [==============================] - 56s 561ms/step - loss: 0.2035 - accuracy: 0.9210 - val_loss: 0.2325 - val_accuracy: 0.9130\n"
     ]
    }
   ],
   "source": [
    "H = model.fit(train_generator, epochs=30, \n",
    "                     validation_data=test_generator)"
   ]
  },
  {
   "cell_type": "code",
   "execution_count": 72,
   "metadata": {
    "colab": {
     "base_uri": "https://localhost:8080/",
     "height": 316
    },
    "id": "McstZVLRXIrZ",
    "outputId": "1ff6fc10-ba88-4447-edb3-100ec09be852"
   },
   "outputs": [
    {
     "data": {
      "text/plain": [
       "<matplotlib.legend.Legend at 0x7fa41423b790>"
      ]
     },
     "execution_count": 72,
     "metadata": {
      "tags": []
     },
     "output_type": "execute_result"
    },
    {
     "data": {
      "image/png": "[encoded data removed]",
      "text/plain": [
       "<Figure size 432x288 with 1 Axes>"
      ]
     },
     "metadata": {
      "tags": []
     },
     "output_type": "display_data"
    }
   ],
   "source": [
    "N = np.arange(0, 30)\n",
    "plt.style.use(\"ggplot\")\n",
    "plt.figure()\n",
    "plt.plot(N, H.history[\"loss\"], label=\"train_loss\")\n",
    "plt.plot(N, H.history[\"val_loss\"], label=\"val_loss\")\n",
    "plt.plot(N, H.history[\"accuracy\"], label=\"train_acc\")\n",
    "plt.plot(N, H.history[\"val_accuracy\"], label=\"val_acc\")\n",
    "plt.title(\"Training Loss and Accuracy\")\n",
    "plt.xlabel(\"Epochs\")\n",
    "plt.ylabel(\"Loss/Accuracy\")\n",
    "plt.legend(loc=\"lower left\")"
   ]
  }
 ],
 "metadata": {
  "accelerator": "GPU",
  "colab": {
   "collapsed_sections": [],
   "name": "Untitled2.ipynb",
   "provenance": []
  },
  "kernelspec": {
   "display_name": "Python 3",
   "name": "python3"
  }
 },
 "nbformat": 4,
 "nbformat_minor": 0
}
